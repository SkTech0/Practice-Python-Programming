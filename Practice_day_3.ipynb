{
  "nbformat": 4,
  "nbformat_minor": 0,
  "metadata": {
    "colab": {
      "provenance": []
    },
    "kernelspec": {
      "name": "python3",
      "display_name": "Python 3"
    },
    "language_info": {
      "name": "python"
    }
  },
  "cells": [
    {
      "cell_type": "code",
      "execution_count": 1,
      "metadata": {
        "id": "psv33GHLt6-B"
      },
      "outputs": [],
      "source": [
        "def reverse_string(s):\n",
        "    \"\"\"\n",
        "    Reverses a given string.\n",
        "\n",
        "    Parameters:\n",
        "    s (str): The input string to be reversed.\n",
        "\n",
        "    Returns:\n",
        "    str: The reversed string.\n",
        "    \"\"\"\n",
        "    return s[::-1]\n"
      ]
    },
    {
      "cell_type": "code",
      "source": [
        "reverse_string(\"Satyam\")"
      ],
      "metadata": {
        "colab": {
          "base_uri": "https://localhost:8080/",
          "height": 36
        },
        "id": "z0IeWarhuAZ5",
        "outputId": "83c147bd-f23e-476f-fd2e-d477b9f2c341"
      },
      "execution_count": 3,
      "outputs": [
        {
          "output_type": "execute_result",
          "data": {
            "text/plain": [
              "'maytaS'"
            ],
            "application/vnd.google.colaboratory.intrinsic+json": {
              "type": "string"
            }
          },
          "metadata": {},
          "execution_count": 3
        }
      ]
    },
    {
      "cell_type": "code",
      "source": [
        "def is_palindrome(s):\n",
        "    \"\"\"\n",
        "    Checks if a given string is a palindrome.\n",
        "\n",
        "    Parameters:\n",
        "    s (str): The input string to be checked.\n",
        "\n",
        "    Returns:\n",
        "    bool: True if the string is a palindrome, False otherwise.\n",
        "    \"\"\"\n",
        "    return s == s[::-1]\n"
      ],
      "metadata": {
        "id": "Q-8XdJA9uGOT"
      },
      "execution_count": 4,
      "outputs": []
    },
    {
      "cell_type": "code",
      "source": [
        "is_palindrome(\"naman\")"
      ],
      "metadata": {
        "colab": {
          "base_uri": "https://localhost:8080/"
        },
        "id": "hohXD3iJuTHS",
        "outputId": "3f083f6d-9167-47a2-cc2d-de5d82ffbd41"
      },
      "execution_count": 6,
      "outputs": [
        {
          "output_type": "execute_result",
          "data": {
            "text/plain": [
              "True"
            ]
          },
          "metadata": {},
          "execution_count": 6
        }
      ]
    },
    {
      "cell_type": "code",
      "source": [
        "from collections import Counter\n",
        "\n",
        "def is_anagram(s1, s2):\n",
        "    \"\"\"\n",
        "    Checks if two strings are anagrams of each other.\n",
        "\n",
        "    Parameters:\n",
        "    s1 (str): The first input string.\n",
        "    s2 (str): The second input string.\n",
        "\n",
        "    Returns:\n",
        "    bool: True if the strings are anagrams, False otherwise.\n",
        "    \"\"\"\n",
        "    return Counter(s1) == Counter(s2)\n"
      ],
      "metadata": {
        "id": "yTFQmqWwubbU"
      },
      "execution_count": 7,
      "outputs": []
    },
    {
      "cell_type": "code",
      "source": [
        "is_anagram(\"radhe\",\"krishna\")"
      ],
      "metadata": {
        "colab": {
          "base_uri": "https://localhost:8080/"
        },
        "id": "RR3LuO6Uujc3",
        "outputId": "eebfc1a1-1be1-4ca4-9f49-21fae2ce84dd"
      },
      "execution_count": 8,
      "outputs": [
        {
          "output_type": "execute_result",
          "data": {
            "text/plain": [
              "False"
            ]
          },
          "metadata": {},
          "execution_count": 8
        }
      ]
    },
    {
      "cell_type": "code",
      "source": [
        "def find_missing_number(nums):\n",
        "    \"\"\"\n",
        "    Finds the missing number in a list of integers from 1 to n.\n",
        "\n",
        "    Parameters:\n",
        "    nums (List[int]): The input list of integers.\n",
        "\n",
        "    Returns:\n",
        "    int: The missing number.\n",
        "    \"\"\"\n",
        "    n = len(nums) + 1\n",
        "    total_sum = n * (n + 1) // 2\n",
        "    actual_sum = sum(nums)\n",
        "    return total_sum - actual_sum\n"
      ],
      "metadata": {
        "id": "apdmJ9BnutwA"
      },
      "execution_count": 10,
      "outputs": []
    },
    {
      "cell_type": "code",
      "source": [
        "nums = [1,2,3,4,5,6,8,9]"
      ],
      "metadata": {
        "id": "b16iCpofvHr3"
      },
      "execution_count": 18,
      "outputs": []
    },
    {
      "cell_type": "code",
      "source": [
        "find_missing_number(nums)"
      ],
      "metadata": {
        "colab": {
          "base_uri": "https://localhost:8080/"
        },
        "id": "0VIUENsLwUFF",
        "outputId": "70be1629-dfc7-4b16-8d19-6421c5e2af6e"
      },
      "execution_count": 19,
      "outputs": [
        {
          "output_type": "execute_result",
          "data": {
            "text/plain": [
              "7"
            ]
          },
          "metadata": {},
          "execution_count": 19
        }
      ]
    },
    {
      "cell_type": "code",
      "source": [
        "def factorial(n):\n",
        "    \"\"\"\n",
        "    Calculates the factorial of a given number.\n",
        "\n",
        "    Parameters:\n",
        "    n (int): The input number.\n",
        "\n",
        "    Returns:\n",
        "    int: The factorial of n.\n",
        "    \"\"\"\n",
        "    if n == 0:\n",
        "        return 1\n",
        "    else:\n",
        "        return n * factorial(n - 1)\n"
      ],
      "metadata": {
        "id": "me_fUj9lwcZf"
      },
      "execution_count": 13,
      "outputs": []
    },
    {
      "cell_type": "code",
      "source": [
        "factorial(5)"
      ],
      "metadata": {
        "colab": {
          "base_uri": "https://localhost:8080/"
        },
        "id": "tn4U6teswwg7",
        "outputId": "cc7662b4-5a09-41f4-92c9-5c1fb37a3d8e"
      },
      "execution_count": 14,
      "outputs": [
        {
          "output_type": "execute_result",
          "data": {
            "text/plain": [
              "120"
            ]
          },
          "metadata": {},
          "execution_count": 14
        }
      ]
    },
    {
      "cell_type": "code",
      "source": [
        "def find_missing_number(nums):\n",
        "    \"\"\"\n",
        "    Finds the missing number in a list of integers from 1 to n.\n",
        "\n",
        "    Parameters:\n",
        "    nums (List[int]): The input list of integers.\n",
        "\n",
        "    Returns:\n",
        "    int: The missing number.\n",
        "    \"\"\"\n",
        "    n = len(nums) + 1\n",
        "    total_sum = n * (n + 1) // 2\n",
        "    print(total_sum)\n",
        "    actual_sum = sum(nums)\n",
        "    print(actual_sum)\n",
        "    return total_sum - actual_sum\n",
        "\n",
        "# Example usage:\n",
        "nums = [1, 2, 4, 5, 6]\n",
        "print(\"Missing number:\", find_missing_number(nums))\n"
      ],
      "metadata": {
        "colab": {
          "base_uri": "https://localhost:8080/"
        },
        "id": "rkwcd8-Iw0VN",
        "outputId": "f76aef45-0bc9-4337-ccab-0a6c7547a035"
      },
      "execution_count": 20,
      "outputs": [
        {
          "output_type": "stream",
          "name": "stdout",
          "text": [
            "21\n",
            "18\n",
            "Missing number: 3\n"
          ]
        }
      ]
    },
    {
      "cell_type": "code",
      "source": [],
      "metadata": {
        "id": "kPM7WqgXyMII"
      },
      "execution_count": null,
      "outputs": []
    },
    {
      "cell_type": "code",
      "source": [
        "def custom_sort(nums):\n",
        "    \"\"\"\n",
        "    Sorts a list of integers in ascending order without using built-in functions.\n",
        "\n",
        "    Parameters:\n",
        "    nums (List[int]): The input list of integers.\n",
        "\n",
        "    Returns:\n",
        "    List[int]: The sorted list.\n",
        "    \"\"\"\n",
        "    for i in range(len(nums)):\n",
        "        for j in range(i + 1, len(nums)):\n",
        "            if nums[i] > nums[j]:\n",
        "                nums[i], nums[j] = nums[j], nums[i]\n",
        "    return nums\n"
      ],
      "metadata": {
        "id": "D8nsipDjxrhJ"
      },
      "execution_count": 21,
      "outputs": []
    },
    {
      "cell_type": "code",
      "source": [
        "num = [1,2,9,6,8]\n",
        "print(len(num))\n",
        "custom_sort(num)\n"
      ],
      "metadata": {
        "colab": {
          "base_uri": "https://localhost:8080/"
        },
        "id": "u0vLXze5zvcE",
        "outputId": "1a41aeef-bfd9-431f-e53a-2cdd6d1f1f5b"
      },
      "execution_count": 26,
      "outputs": [
        {
          "output_type": "stream",
          "name": "stdout",
          "text": [
            "5\n"
          ]
        },
        {
          "output_type": "execute_result",
          "data": {
            "text/plain": [
              "[1, 2, 6, 8, 9]"
            ]
          },
          "metadata": {},
          "execution_count": 26
        }
      ]
    },
    {
      "cell_type": "code",
      "source": [],
      "metadata": {
        "id": "ucGOd_V90H5C"
      },
      "execution_count": null,
      "outputs": []
    }
  ]
}