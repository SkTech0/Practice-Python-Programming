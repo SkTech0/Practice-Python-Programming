{
  "nbformat": 4,
  "nbformat_minor": 0,
  "metadata": {
    "colab": {
      "provenance": []
    },
    "kernelspec": {
      "name": "python3",
      "display_name": "Python 3"
    },
    "language_info": {
      "name": "python"
    }
  },
  "cells": [
    {
      "cell_type": "markdown",
      "source": [
        "# Prime Number\n"
      ],
      "metadata": {
        "id": "VZKpuXDxGzPt"
      }
    },
    {
      "cell_type": "code",
      "source": [
        "number = int(input('Enter Number:'))\n",
        "if number <= 2:\n",
        "  print(\"Number is not prime:\")\n",
        "else:\n",
        "  for i in range(2,number):\n",
        "    if number%i==0:\n",
        "      print(\"print number is not prime\")\n",
        "      break\n",
        "  else:\n",
        "    print (\"Number is prime Number\")"
      ],
      "metadata": {
        "colab": {
          "base_uri": "https://localhost:8080/"
        },
        "id": "jUYADvzKL8ih",
        "outputId": "5a172e2f-1a59-4b9d-fe18-9e578b409643"
      },
      "execution_count": 9,
      "outputs": [
        {
          "output_type": "stream",
          "name": "stdout",
          "text": [
            "Enter Number:25\n",
            "print number is not prime\n"
          ]
        }
      ]
    },
    {
      "cell_type": "markdown",
      "source": [
        "# Handling Large Numbers:"
      ],
      "metadata": {
        "id": "2czMlCbaLKMH"
      }
    },
    {
      "cell_type": "code",
      "execution_count": 8,
      "metadata": {
        "colab": {
          "base_uri": "https://localhost:8080/"
        },
        "id": "kctJv7MfGvEV",
        "outputId": "646e25bb-0b28-494a-dcd8-35251bc64da2"
      },
      "outputs": [
        {
          "output_type": "stream",
          "name": "stdout",
          "text": [
            "Enter Number:25\n",
            "print number is not prime\n"
          ]
        }
      ],
      "source": [
        "number = int(input('Enter Number:'))\n",
        "if number <= 2:\n",
        "  print(\"Number is not prime:\")\n",
        "else:\n",
        "  for i in range(2,int(number**0.5)+1):\n",
        "    if number%i==0:\n",
        "      print(\"print number is not prime\")\n",
        "      break\n",
        "  else:\n",
        "    print (\"Number is prime Number\")"
      ]
    },
    {
      "cell_type": "markdown",
      "source": [
        "# Error Handling:"
      ],
      "metadata": {
        "id": "S0Gel71YK7XA"
      }
    },
    {
      "cell_type": "code",
      "source": [
        "\n",
        "try:\n",
        "    # Attempt to get user input\n",
        "    user_input = input('Enter Number: ')\n",
        "\n",
        "    # Attempt to convert the user input to an integer\n",
        "    number = int(user_input)\n",
        "\n",
        "    # Check if the entered number is less than 2\n",
        "    if number < 2:\n",
        "        print(\"Number is not prime.\")\n",
        "    else:\n",
        "        is_prime = True\n",
        "        # Check for divisors up to the square root of the number\n",
        "        for i in range(2, int(number**0.5) + 1):\n",
        "            if number % i == 0:\n",
        "                is_prime = False\n",
        "                break\n",
        "\n",
        "        if is_prime:\n",
        "            print('Number is prime.')\n",
        "        else:\n",
        "            print(\"Number is not prime.\")\n",
        "\n",
        "except ValueError:\n",
        "    # Handle the case where the user entered a non-numeric input\n",
        "    print(\"Invalid input. Please enter a valid numeric value.\")\n"
      ],
      "metadata": {
        "id": "6StcVxTxHy1N"
      },
      "execution_count": 3,
      "outputs": []
    }
  ]
}