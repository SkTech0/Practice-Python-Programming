{
  "nbformat": 4,
  "nbformat_minor": 0,
  "metadata": {
    "colab": {
      "provenance": []
    },
    "kernelspec": {
      "name": "python3",
      "display_name": "Python 3"
    },
    "language_info": {
      "name": "python"
    }
  },
  "cells": [
    {
      "cell_type": "markdown",
      "source": [
        "# Fibonacci Series"
      ],
      "metadata": {
        "id": "d6HAhuvTBgcK"
      }
    },
    {
      "cell_type": "code",
      "execution_count": 14,
      "metadata": {
        "colab": {
          "base_uri": "https://localhost:8080/"
        },
        "id": "fJTMG5D-Bdar",
        "outputId": "a908f462-302b-4729-8463-27ff306f5c84"
      },
      "outputs": [
        {
          "output_type": "stream",
          "name": "stdout",
          "text": [
            "Enter the number of terms you want7\n",
            "[0, 1, 1, 2, 3, 5, 8]\n"
          ]
        }
      ],
      "source": [
        "number = int(input(\"Enter the number of terms you want\"))\n",
        "sequence = [0,1]\n",
        "for i in range(2,number):\n",
        "  next_term = sequence[i-1] + sequence[i-2]\n",
        "  sequence.append(next_term)\n",
        "print(sequence)"
      ]
    },
    {
      "cell_type": "code",
      "source": [
        "n = int(input('enter which term you want:'))\n",
        "if n<=0:\n",
        "  print('enter valid number')\n",
        "if n == 1:\n",
        "  print(0)\n",
        "elif n==2:\n",
        "  print(1)\n",
        "else:\n",
        "  a,b = 0,1\n",
        "  for _ in range (3,n+1):\n",
        "    temp=b\n",
        "    b= a+b\n",
        "    a= temp\n",
        "  print(b)"
      ],
      "metadata": {
        "colab": {
          "base_uri": "https://localhost:8080/"
        },
        "id": "WSOVDUrzFoMT",
        "outputId": "69f697fc-b60c-4006-c627-01bc42788799"
      },
      "execution_count": 12,
      "outputs": [
        {
          "output_type": "stream",
          "name": "stdout",
          "text": [
            "enter which term you want:5\n",
            "3\n"
          ]
        }
      ]
    },
    {
      "cell_type": "code",
      "source": [
        "def fibonacci_memoized(n, memo={}):\n",
        "    if n <= 1:\n",
        "        return n\n",
        "    elif n not in memo:\n",
        "        memo[n] = fibonacci_memoized(n-1, memo) + fibonacci_memoized(n-2, memo)\n",
        "    return memo[n]\n",
        "\n",
        "# Calculate and print Fibonacci sequence up to a certain number\n",
        "n = 10\n",
        "fib_sequence = [fibonacci_memoized(i) for i in range(n+1)]\n",
        "print(f\"Fibonacci sequence up to {n}: {fib_sequence}\")\n"
      ],
      "metadata": {
        "colab": {
          "base_uri": "https://localhost:8080/"
        },
        "id": "Qz7_Xli3I_Gl",
        "outputId": "b986b5dc-a4f3-48fc-946d-8abb721c9da4"
      },
      "execution_count": 13,
      "outputs": [
        {
          "output_type": "stream",
          "name": "stdout",
          "text": [
            "Fibonacci sequence up to 10: [0, 1, 1, 2, 3, 5, 8, 13, 21, 34, 55]\n"
          ]
        }
      ]
    },
    {
      "cell_type": "code",
      "source": [],
      "metadata": {
        "id": "I6El3VpASaNg"
      },
      "execution_count": null,
      "outputs": []
    }
  ]
}